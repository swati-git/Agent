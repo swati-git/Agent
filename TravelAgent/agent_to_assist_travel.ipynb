{
 "cells": [
  {
   "cell_type": "code",
   "execution_count": null,
   "id": "f2289825",
   "metadata": {},
   "outputs": [],
   "source": [
    "%pip install openai"
   ]
  },
  {
   "cell_type": "code",
   "execution_count": null,
   "id": "faea85b1",
   "metadata": {},
   "outputs": [],
   "source": [
    "%pip install serpapi"
   ]
  },
  {
   "cell_type": "code",
   "execution_count": null,
   "id": "8079b766",
   "metadata": {},
   "outputs": [],
   "source": [
    "%pip install python-dotenv"
   ]
  },
  {
   "cell_type": "code",
   "execution_count": null,
   "id": "2b0ab58b",
   "metadata": {},
   "outputs": [],
   "source": [
    "from dotenv import load_dotenv"
   ]
  },
  {
   "cell_type": "code",
   "execution_count": null,
   "id": "88393023",
   "metadata": {},
   "outputs": [],
   "source": [
    "load_dotenv()"
   ]
  },
  {
   "cell_type": "code",
   "execution_count": null,
   "id": "30a4725e",
   "metadata": {},
   "outputs": [],
   "source": [
    "import os \n",
    "\n",
    "openai_api_key=os.getenv(\"OPENAI_API_KEY\")\n",
    "serpapi_key=os.getenv(\"SERP_API_KEY\")\n",
    "\n"
   ]
  },
  {
   "cell_type": "code",
   "execution_count": null,
   "id": "572ab2a2",
   "metadata": {},
   "outputs": [],
   "source": [
    "MODEL = \"gpt-4o-mini\""
   ]
  },
  {
   "cell_type": "markdown",
   "id": "f543cc8c",
   "metadata": {},
   "source": [
    "# DEFINITION OF TOOLS THAT WILL BE  USED BY LLM"
   ]
  },
  {
   "cell_type": "code",
   "execution_count": null,
   "id": "972ed850",
   "metadata": {},
   "outputs": [],
   "source": [
    "# The particular dictionary structure that's required to describe our function for the LLM\n",
    "\n",
    "flight_function = {\n",
    "    \"name\": \"get_flight_info\",\n",
    "    \"description\": \"Get real-time information about a specific flight. Call this whenever you need to know the ticket price, for example, when a customer asks 'How much is a ticket to this city?'.\\\n",
    "    Call this whenever you need to know the flight details such as departure time, arrival time, available flights, flight route, duration of a flight, flight type, layovers, travel class, airplane, legroom, and extensions.\",\n",
    "    \"parameters\": {\n",
    "        \"type\": \"object\",\n",
    "        \"properties\": {\n",
    "            \"departure\": {\n",
    "                \"type\": \"string\",\n",
    "                \"description\": \"The IATA code of the airport the customer wants to travel from. For example, 'AUS' for Austin-Bergstrom International Airport.\",\n",
    "            },\n",
    "            \"destination\": {\n",
    "                \"type\": \"string\",\n",
    "                \"description\": \"The IATA code of the airport the customer wants to travel to. For example, 'JFK' for John F. Kennedy International Airport.\",\n",
    "            },\n",
    "            \"departure_date\": {\n",
    "                \"type\": \"string\",\n",
    "                \"format\": \"date\",\n",
    "                \"description\": \"The date of departure in YYYY-MM-DD format. For example, '2024-06-15'.\",\n",
    "            },\n",
    "            \"return_date\": {\n",
    "                \"type\": \"string\",\n",
    "                \"format\": \"date\",\n",
    "                \"description\": \"The return date in YYYY-MM-DD format for round trips. This field is optional.\",\n",
    "            },\n",
    "    },\n",
    "        \"required\": [\"departure\", \"destination\", \"departure_date\",\"return_date\"],\n",
    "        \"additionalProperties\": False,\n",
    "}\n",
    "}   \n"
   ]
  },
  {
   "cell_type": "code",
   "execution_count": null,
   "id": "2564b69a",
   "metadata": {},
   "outputs": [],
   "source": [
    "tools = [\n",
    "    {\"type\": \"function\", \"function\": flight_function}\n",
    "]\n"
   ]
  },
  {
   "cell_type": "markdown",
   "id": "a16aa371",
   "metadata": {},
   "source": [
    "# UTILITIES"
   ]
  },
  {
   "cell_type": "code",
   "execution_count": null,
   "id": "ca65cd19",
   "metadata": {},
   "outputs": [],
   "source": [
    "from datetime import datetime\n",
    "\n",
    "system_message = \"You are a helpful personal travel assistant\"\n",
    "system_message += \"Help the user determine the experience they want to achieve from their travel.\"\n",
    "system_message += \"Suggest locations where they can have their desired experience.\"\n",
    "system_message += \"Provide real-time cost to travel.\"\n",
    "system_message += \"Provide guidance on how to travel to the desired location.\"\n",
    "system_message += \"Always be accurate. If you don't know the answer, say so.\"\n",
    "system_message += \"You should always be polite.\"\n",
    "system_message += \"Start a conversation by introducing yourself for example: 'Hi, I am Amy, your personal travel assistant.How may I help you?'.\"\n",
    "system_message += f\"Today's date is {datetime.today()}\""
   ]
  },
  {
   "cell_type": "code",
   "execution_count": null,
   "id": "442f8d89",
   "metadata": {},
   "outputs": [],
   "source": [
    "import json"
   ]
  },
  {
   "cell_type": "code",
   "execution_count": null,
   "id": "5fe34f79",
   "metadata": {},
   "outputs": [],
   "source": [
    "from datetime import datetime"
   ]
  },
  {
   "cell_type": "code",
   "execution_count": null,
   "id": "93338035",
   "metadata": {},
   "outputs": [],
   "source": [
    "def format_flight_data(flight_data):\n",
    "    flights = flight_data.get(\"best_flights\", [])\n",
    "    if not flights:\n",
    "        return \"❌ No flights found. Try another date or route.\"\n",
    "\n",
    "    all_flight_details = []\n",
    "    \n",
    "    for number, flight in enumerate(flights):\n",
    "        flight_details = []\n",
    "        price = f\"💰 **Price**: ${flight['price']}\\n\"\n",
    "        total_duration = f\"⌛ **Total Flight Duration**: {flight['total_duration']} minutes\\n\"\n",
    "        flight_type = f\"🛫 **Type**: {flight['type']}\\n\"\n",
    "        #layovers = f\"🛬 **Layovers**: {flight['layovers']}\\n\"\n",
    "\n",
    "        flight_details.append(price)\n",
    "        flight_details.append(total_duration)\n",
    "        flight_details.append(flight_type)\n",
    "        #flight_details.append(layovers)\n",
    "\n",
    "        sub_flights = flight['flights']\n",
    "        for sub_flight in sub_flights:\n",
    "            details = (\n",
    "                f\"✈️ **{sub_flight['airline']} {sub_flight['flight_number']}**\\n\"\n",
    "                f\"🛫 **Departure**: {sub_flight['departure_airport']['name']} ({sub_flight['departure_airport']['id']}) \"\n",
    "                f\"at {sub_flight['departure_airport']['time']}\\n\"\n",
    "                f\"🛬 **Arrival**: {sub_flight['arrival_airport']['name']} ({sub_flight['arrival_airport']['id']}) \"\n",
    "                f\"at {sub_flight['arrival_airport']['time']}\\n\"\n",
    "                f\"⌛ **Duration**: {sub_flight['duration']} minutes\\n\"\n",
    "                f\"💺 **Class**: {sub_flight['travel_class']}\\n\"\n",
    "                f\"✈️ **Aircraft**: {sub_flight['airplane']}\\n\"\n",
    "                f\"🌎 **Extras**: {', '.join(sub_flight['extensions']) if sub_flight['extensions'] else 'None'}\\n\"\n",
    "                f\"----------------------------\"\n",
    "            )\n",
    "            flight_details.append(details)\n",
    "            \n",
    "        all_flight_details.append(f\"✈️ Flight Option {number + 1}:\\n\" + \"\\n\".join(flight_details))\n",
    "    \n",
    "    return \"\\n\\n\".join(all_flight_details)\n"
   ]
  },
  {
   "cell_type": "markdown",
   "id": "702c6a9a",
   "metadata": {},
   "source": [
    "Reference link for SERAPI: https://pypi.org/project/serpapi/\n",
    "Reference link for search engine: https://serpapi.com/google-flights-api"
   ]
  },
  {
   "cell_type": "code",
   "execution_count": null,
   "id": "3a4fa7e4",
   "metadata": {},
   "outputs": [],
   "source": [
    "\n",
    "from serpapi import search\n",
    "def get_flight_info(departure, arrival, departure_date, return_date):\n",
    "    params = {\n",
    "      \"api_key\": serpapi_key,\n",
    "      \"engine\": \"google_flights\",\n",
    "      \"hl\": \"en\",\n",
    "      \"gl\": \"us\",\n",
    "      \"departure_id\": departure,\n",
    "      \"arrival_id\": arrival,\n",
    "      \"outbound_date\": departure_date,\n",
    "      \"return_date\": return_date,\n",
    "      \"currency\": \"USD\"\n",
    "    }\n",
    "    # prevent past date from being sent to the api\n",
    "    if datetime.strptime(departure_date, '%Y-%m-%d') < datetime.today():\n",
    "        print(\"step1 failed\")\n",
    "        return []\n",
    "    elif datetime.strptime(return_date, '%Y-%m-%d') < datetime.today():\n",
    "        print(\"step2 failed\")\n",
    "        return []\n",
    "    elif datetime.strptime(departure_date, '%Y-%m-%d') > datetime.strptime(return_date, '%Y-%m-%d'):\n",
    "        print(\"step3 failed\")\n",
    "        return []\n",
    "    else:\n",
    "        flight_data = search(params)\n",
    "        flight_details = format_flight_data(flight_data)\n",
    "        return flight_details"
   ]
  },
  {
   "cell_type": "code",
   "execution_count": null,
   "id": "2da8f9fa",
   "metadata": {},
   "outputs": [],
   "source": [
    "def handle_tool_call(arguments, name, tool_call):\n",
    "    if name == \"get_flight_info\":\n",
    "        departure_code = arguments.get('departure')\n",
    "        destination_code = arguments.get('destination')\n",
    "        departure_date = arguments.get('departure_date')\n",
    "        return_date = arguments.get('return_date')\n",
    "        \n",
    "        flight_details = get_flight_info(departure_code, destination_code, departure_date, return_date)\n",
    "        response = {\n",
    "            \"role\": \"tool\",\n",
    "            \"name\": name,\n",
    "            \"content\": json.dumps({\"departure\": departure_code, \"destination\": destination_code,\\\n",
    "                                   \"departure_date\":departure_date, \"return_date\": return_date,\\\n",
    "                                  \"flight_details\": flight_details}),\n",
    "            \"tool_call_id\": tool_call.id\n",
    "        }\n",
    "        \n",
    "    else:\n",
    "        print(f\"Error: Unrecognized tool name '{name}'\")\n",
    "        return None  \n",
    "    return response"
   ]
  },
  {
   "cell_type": "markdown",
   "id": "6e42dc94",
   "metadata": {},
   "source": [
    "Reference Links for instantiating OpenAI: https://platform.openai.com/docs/api-reference/chat"
   ]
  },
  {
   "cell_type": "code",
   "execution_count": null,
   "id": "ce0df983",
   "metadata": {},
   "outputs": [],
   "source": [
    "from openai import OpenAI\n",
    "client = OpenAI(api_key=openai_api_key)\n",
    "\n",
    "\n",
    "def chat(message):\n",
    "\n",
    "    messages = [{\"role\": \"system\", \"content\": system_message},\n",
    "                {\"role\": \"user\", \"content\": message}\n",
    "               ]\n",
    "\n",
    "    response = client.chat.completions.create(\n",
    "        model=MODEL, \n",
    "        messages=messages, \n",
    "        tools=tools)\n",
    "    \n",
    "    \n",
    "    finalresponse=None\n",
    "    print(f\"response: {response}\\n\")\n",
    "\n",
    "    print(f\"reason: {response.choices[0].finish_reason}\\n\")\n",
    "    print(f\"message: {response.choices[0].message}\\n\")\n",
    "    print(f\"content: {response.choices[0].message.content}\\n\")\n",
    "   \n",
    "    if response.choices[0].finish_reason==\"tool_calls\":\n",
    "        # get the name of tool called\n",
    "        message = response.choices[0].message\n",
    "        tool_call = message.tool_calls[0]\n",
    "        print(f\"arguments: {json.loads(tool_call.function.arguments)}\")\n",
    "        arguments = json.loads(tool_call.function.arguments)\n",
    "        tool_name = tool_call.function.name\n",
    "        response = handle_tool_call(arguments, tool_name, tool_call)\n",
    "        if tool_name == \"get_flight_info\":\n",
    "            messages.append(message)\n",
    "            messages.append(response)\n",
    "        response = client.chat.completions.create(model=MODEL, messages=messages)\n",
    "    reply = response.choices[0].message.content\n",
    "    finalresponse = [{\"role\": \"assistant\", \"content\":reply}]\n",
    "    \n",
    "    return finalresponse"
   ]
  },
  {
   "cell_type": "code",
   "execution_count": null,
   "id": "0790b8aa",
   "metadata": {},
   "outputs": [],
   "source": [
    "message =\"Find me tickets from Bangalore on the 10th March, 2025 to Pantnagar on 12thmarch,2025\""
   ]
  },
  {
   "cell_type": "code",
   "execution_count": null,
   "id": "47306fdd",
   "metadata": {},
   "outputs": [],
   "source": [
    "travel_agents_response=chat(message)"
   ]
  },
  {
   "cell_type": "code",
   "execution_count": null,
   "id": "f85eddf3",
   "metadata": {},
   "outputs": [],
   "source": [
    "print(travel_agents_response)"
   ]
  },
  {
   "cell_type": "code",
   "execution_count": null,
   "id": "25a27d9d",
   "metadata": {},
   "outputs": [],
   "source": [
    "#TODO\n",
    "#1. Build a User Interface with gradio\n",
    "#2. Deploy the model on Heroku\n",
    "#3. Test the model on the deployed server\n",
    "#4. Update the documentation\n",
    "#5. Add history to the chat"
   ]
  },
  {
   "cell_type": "code",
   "execution_count": null,
   "id": "36a045fb",
   "metadata": {},
   "outputs": [],
   "source": []
  },
  {
   "cell_type": "code",
   "execution_count": null,
   "id": "ef768ae8",
   "metadata": {},
   "outputs": [],
   "source": []
  },
  {
   "cell_type": "code",
   "execution_count": null,
   "id": "64270218",
   "metadata": {},
   "outputs": [],
   "source": []
  },
  {
   "cell_type": "code",
   "execution_count": null,
   "id": "7811b6b0",
   "metadata": {},
   "outputs": [],
   "source": []
  },
  {
   "cell_type": "code",
   "execution_count": null,
   "id": "fdb1eb6f",
   "metadata": {},
   "outputs": [],
   "source": []
  },
  {
   "cell_type": "code",
   "execution_count": null,
   "id": "711b4389",
   "metadata": {},
   "outputs": [],
   "source": []
  }
 ],
 "metadata": {
  "kernelspec": {
   "display_name": "Python 3 (ipykernel)",
   "language": "python",
   "name": "python3"
  },
  "language_info": {
   "codemirror_mode": {
    "name": "ipython",
    "version": 3
   },
   "file_extension": ".py",
   "mimetype": "text/x-python",
   "name": "python",
   "nbconvert_exporter": "python",
   "pygments_lexer": "ipython3",
   "version": "3.9.7"
  }
 },
 "nbformat": 4,
 "nbformat_minor": 5
}
